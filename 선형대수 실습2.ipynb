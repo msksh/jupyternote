{
 "cells": [
  {
   "cell_type": "code",
   "execution_count": 2,
   "metadata": {},
   "outputs": [
    {
     "name": "stdout",
     "output_type": "stream",
     "text": [
      "[[6.123234e-17]\n",
      " [1.000000e+00]]\n"
     ]
    }
   ],
   "source": [
    "import numpy as np\n",
    "\n",
    "theta = 90/180*np.pi\n",
    "R = np.matrix([[np.cos(theta), -np.sin(theta)],\n",
    "               [np.sin(theta), np.cos(theta)]])\n",
    "x = np.matrix([[1],[0]])\n",
    "\n",
    "y = R*x\n",
    "print(y)"
   ]
  },
  {
   "cell_type": "code",
   "execution_count": 3,
   "metadata": {},
   "outputs": [
    {
     "name": "stdout",
     "output_type": "stream",
     "text": [
      "[[1]\n",
      " [0]]\n"
     ]
    }
   ],
   "source": [
    "import numpy as np\n",
    "\n",
    "P = np.matrix([[1, 0],\n",
    "               [0, 0]])\n",
    "x = np.matrix([[1],\n",
    "               [1]])\n",
    "\n",
    "y = P*x\n",
    "print(y)"
   ]
  },
  {
   "cell_type": "code",
   "execution_count": 5,
   "metadata": {},
   "outputs": [
    {
     "name": "stdout",
     "output_type": "stream",
     "text": [
      "[1. 0.]\n",
      "[[1. 0.]\n",
      " [0. 1.]]\n"
     ]
    }
   ],
   "source": [
    "import numpy as np\n",
    "\n",
    "A = np.array([[1, 0],\n",
    "              [0, 0]])\n",
    "D, V = np.linalg.eig(A)\n",
    "print(D)\n",
    "print(V)"
   ]
  },
  {
   "cell_type": "code",
   "execution_count": 12,
   "metadata": {},
   "outputs": [
    {
     "name": "stdout",
     "output_type": "stream",
     "text": [
      "0.875\n",
      "[[0.]\n",
      " [7.]]\n"
     ]
    }
   ],
   "source": [
    "import numpy as  np\n",
    "\n",
    "X = np.matrix([[3],\n",
    "               [7]])\n",
    "Y = np.matrix([[0],\n",
    "               [8]])\n",
    "\n",
    "omega = (X.T*Y)/(Y.T*Y)\n",
    "omega = float(omega)\n",
    "print(float(omega))\n",
    "W = omega*Y\n",
    "print(W)"
   ]
  },
  {
   "cell_type": "code",
   "execution_count": 2,
   "metadata": {},
   "outputs": [
    {
     "name": "stdout",
     "output_type": "stream",
     "text": [
      "[[26]]\n"
     ]
    }
   ],
   "source": [
    "print(Y.T*Y)"
   ]
  },
  {
   "cell_type": "code",
   "execution_count": 3,
   "metadata": {},
   "outputs": [
    {
     "name": "stdout",
     "output_type": "stream",
     "text": [
      "0.7307692307692307\n"
     ]
    }
   ],
   "source": [
    "omega = (X.T*Y)/(Y.T*Y)\n",
    "omega = float(omega)\n",
    "print(float(omega))"
   ]
  },
  {
   "cell_type": "code",
   "execution_count": 4,
   "metadata": {},
   "outputs": [
    {
     "name": "stdout",
     "output_type": "stream",
     "text": [
      "[[3.65384615]\n",
      " [0.73076923]]\n"
     ]
    }
   ],
   "source": [
    "W = omega*Y\n",
    "print(W)"
   ]
  },
  {
   "cell_type": "code",
   "execution_count": 14,
   "metadata": {},
   "outputs": [
    {
     "name": "stdout",
     "output_type": "stream",
     "text": [
      "[[5.]\n",
      " [3.]]\n",
      "[[5.]\n",
      " [3.]\n",
      " [0.]]\n"
     ]
    }
   ],
   "source": [
    "import numpy as  np\n",
    "\n",
    "A = np.matrix([[1,0],\n",
    "               [0,1],\n",
    "               [0,0]])\n",
    "B = np.matrix([[5],\n",
    "               [3],\n",
    "               [9]])\n",
    "\n",
    "X = (A.T*A).I*A.T*B\n",
    "print(X)\n",
    "\n",
    "Bstar = A*X\n",
    "print(Bstar)"
   ]
  },
  {
   "cell_type": "code",
   "execution_count": 10,
   "metadata": {},
   "outputs": [
    {
     "name": "stdout",
     "output_type": "stream",
     "text": [
      "9.0\n",
      "6.4031242374328485\n"
     ]
    }
   ],
   "source": [
    "import numpy as np\n",
    "A = np.array([[5],\n",
    "             [4]])\n",
    "A = np.asmatrix(A)\n",
    "q1 = np.linalg.norm(A,1)\n",
    "q2 = np.linalg.norm(A,2)\n",
    "print(q1)\n",
    "print(q2)"
   ]
  },
  {
   "cell_type": "code",
   "execution_count": 11,
   "metadata": {},
   "outputs": [
    {
     "name": "stdout",
     "output_type": "stream",
     "text": [
      "[[1]\n",
      " [2]]\n"
     ]
    }
   ],
   "source": [
    "A = np.array([[1],\n",
    "             [2]])\n",
    "A = np.asmatrix(A)\n",
    "print(A)"
   ]
  },
  {
   "cell_type": "code",
   "execution_count": 11,
   "metadata": {},
   "outputs": [
    {
     "name": "stdout",
     "output_type": "stream",
     "text": [
      "[[-2.]\n",
      " [ 2.]\n",
      " [ 2.]]\n"
     ]
    }
   ],
   "source": [
    "import numpy as np\n",
    "a = np.array([[1,4,2]])\n",
    "b = np.array([[1,0,1]])\n",
    "z= a.T*b.T\n",
    "theta = z *np.pi\n",
    "R = np.cos(theta)\n",
    "print(2*R)\n"
   ]
  },
  {
   "cell_type": "code",
   "execution_count": 3,
   "metadata": {},
   "outputs": [
    {
     "name": "stdout",
     "output_type": "stream",
     "text": [
      "[[3.14159265]\n",
      " [0.        ]\n",
      " [6.28318531]]\n"
     ]
    }
   ],
   "source": [
    "theta = z *np.pi\n",
    "print(theta)"
   ]
  }
 ],
 "metadata": {
  "kernelspec": {
   "display_name": "Python 3",
   "language": "python",
   "name": "python3"
  },
  "language_info": {
   "codemirror_mode": {
    "name": "ipython",
    "version": 3
   },
   "file_extension": ".py",
   "mimetype": "text/x-python",
   "name": "python",
   "nbconvert_exporter": "python",
   "pygments_lexer": "ipython3",
   "version": "3.6.8"
  }
 },
 "nbformat": 4,
 "nbformat_minor": 4
}
