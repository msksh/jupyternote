{
  "cells": [{
      "cell_type": "code",
      "execution_count": 1,
      "metadata": {},
      "outputs": [],
      "source": [
        "import numpy as np"
      ]
    },
    {
      "cell_type": "code",
      "execution_count": 3,
      "metadata": {
        "scrolled": false
      },
      "outputs": [{
        "name": "stdout",
        "output_type": "stream",
        "text": [
          "[[ 4 -5]\n",
          " [-2  3]]\n"
        ]
      }],
      "source": [
        "A = np.array([[4,-5],[-2,3]])\n",
        "print(A)"
      ]
    },
    {
      "cell_type": "code",
      "execution_count": 4,
      "metadata": {},
      "outputs": [{
        "name": "stdout",
        "output_type": "stream",
        "text": [
          "[[-13]\n",
          " [  9]]\n"
        ]
      }],
      "source": [
        "b = np.array([[-13],[9]])\n",
        "print(b)"
      ]
    },
    {
      "cell_type": "code",
      "execution_count": 44,
      "metadata": {},
      "outputs": [{
        "data": {
          "text/plain": [
            "matrix([[3.],\n",
            "        [5.]])"
          ]
        },
        "execution_count": 44,
        "metadata": {},
        "output_type": "execute_result"
      }],
      "source": [
        "np.linalg.inv(A).dot(b)"
      ]
    },
    {
      "cell_type": "code",
      "execution_count": 38,
      "metadata": {},
      "outputs": [],
      "source": [
        "A = np.asmatrix(A)\n",
        "b = np.asmatrix(b)"
      ]
    },
    {
      "cell_type": "code",
      "execution_count": 39,
      "metadata": {},
      "outputs": [{
        "data": {
          "text/plain": [
            "matrix([[3.],\n",
            "        [5.]])"
          ]
        },
        "execution_count": 39,
        "metadata": {},
        "output_type": "execute_result"
      }],
      "source": [
        "A.I*b"
      ]
    },
    {
      "cell_type": "code",
      "execution_count": 6,
      "metadata": {},
      "outputs": [{
        "name": "stdout",
        "output_type": "stream",
        "text": [
          "[[0]\n",
          " [1]]\n"
        ]
      }],
      "source": [
        "import numpy as np\n",
        "p = np.matrix([[0,0],\n",
        "             [0, 1]])\n",
        "x = np.matrix([[1],\n",
        "              [1]])\n",
        "y= p*x\n",
        "print(y)"
      ]
    },
    {
      "cell_type": "code",
      "execution_count": 42,
      "metadata": {},
      "outputs": [{
        "data": {
          "text/plain": [
            "matrix([[5]])"
          ]
        },
        "execution_count": 42,
        "metadata": {},
        "output_type": "execute_result"
      }],
      "source": [
        "x = np.asmatrix(x)\n",
        "y = np.asmatrix(y)\n",
        "\n",
        "x.T*y"
      ]
    },
    {
      "cell_type": "code",
      "execution_count": 43,
      "metadata": {},
      "outputs": [{
        "name": "stdout",
        "output_type": "stream",
        "text": [
          "[[5]]\n"
        ]
      }],
      "source": [
        "z= x.T*y\n",
        "print(z)"
      ]
    },
    {
      "cell_type": "code",
      "execution_count": 45,
      "metadata": {},
      "outputs": [{
        "name": "stdout",
        "output_type": "stream",
        "text": [
          "[[4]\n",
          " [3]]\n"
        ]
      }],
      "source": [
        "x = np.array([[4],\n",
        "              [3]])\n",
        "print(x)"
      ]
    },
    {
      "cell_type": "code",
      "execution_count": 46,
      "metadata": {},
      "outputs": [{
        "data": {
          "text/plain": [
            "5.0"
          ]
        },
        "execution_count": 46,
        "metadata": {},
        "output_type": "execute_result"
      }],
      "source": [
        "np.linalg.norm(x)"
      ]
    },
    {
      "cell_type": "code",
      "execution_count": 47,
      "metadata": {},
      "outputs": [{
        "data": {
          "text/plain": [
            "5.0"
          ]
        },
        "execution_count": 47,
        "metadata": {},
        "output_type": "execute_result"
      }],
      "source": [
        "np.linalg.norm(x,2)"
      ]
    },
    {
      "cell_type": "code",
      "execution_count": 48,
      "metadata": {},
      "outputs": [{
        "data": {
          "text/plain": [
            "7.0"
          ]
        },
        "execution_count": 48,
        "metadata": {},
        "output_type": "execute_result"
      }],
      "source": [
        "np.linalg.norm(x,1)"
      ]
    },
    {
      "cell_type": "code",
      "execution_count": 53,
      "metadata": {},
      "outputs": [{
        "data": {
          "text/plain": [
            "matrix([[0]])"
          ]
        },
        "execution_count": 53,
        "metadata": {},
        "output_type": "execute_result"
      }],
      "source": [
        "x = np.asmatrix([[1],\n",
        "                 [2]])\n",
        "y = np.asmatrix([[2],\n",
        "                [-1]])\n",
        "x.T*y"
      ]
    },
    {
      "cell_type": "code",
      "execution_count": 9,
      "metadata": {},
      "outputs": [{
        "name": "stdout",
        "output_type": "stream",
        "text": [
          "[[-0.20171182 -0.74126885  0.33565412]\n",
          " [-0.54605595  0.57201394 -0.70887172]\n",
          " [-0.81310223 -0.35117025  0.62035248]]\n"
        ]
      }],
      "source": [
        "import numpy as np\n",
        "A = np.array([[1,2,1],\n",
        "             [0,3,5],\n",
        "             [3,7,5]])\n",
        "D,V=np.linalg.eig(A)\n",
        "print(V)"
      ]
    }
  ],
  "metadata": {
    "kernelspec": {
      "display_name": "Python 3",
      "language": "python",
      "name": "python3"
    },
    "language_info": {
      "codemirror_mode": {
        "name": "ipython",
        "version": 3
      },
      "file_extension": ".py",
      "mimetype": "text/x-python",
      "name": "python",
      "nbconvert_exporter": "python",
      "pygments_lexer": "ipython3",
      "version": "3.6.8"
    }
  },
  "nbformat": 4,
  "nbformat_minor": 4
}
